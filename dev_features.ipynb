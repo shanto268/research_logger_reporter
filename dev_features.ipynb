{
 "cells": [
  {
   "cell_type": "markdown",
   "id": "b18e86cb",
   "metadata": {},
   "source": [
    "## Testing"
   ]
  },
  {
   "cell_type": "code",
   "execution_count": 69,
   "id": "7c4c4d1d",
   "metadata": {
    "ExecuteTime": {
     "end_time": "2022-06-09T05:14:20.272231Z",
     "start_time": "2022-06-09T05:14:20.253235Z"
    }
   },
   "outputs": [],
   "source": [
    "def return_tasks_list(file, path):\n",
    "    \"\"\"Returns the text information of the file in the path as a list of tasks\n",
    "    \"\"\"\n",
    "    fpath = path + \"/\" + file\n",
    "    f_open = open(fpath, \"r\")\n",
    "    content = f_open.read().split(\"-[\")\n",
    "    return content\n",
    "\n",
    "def get_updated_content_strings(content):\n",
    "    \"\"\"Returns two strings one with all the completed tasks for today and the other with tasks for tomorrow\n",
    "    \"\"\"\n",
    "    contend_today = []\n",
    "    content_yesterday = []\n",
    "\n",
    "    for task in content:\n",
    "        if task[0] == \"]\":\n",
    "            contend_today.append(task.replace(\"]\",\"-[]\"))\n",
    "        else:\n",
    "            ctoday = task.replace(\"x]\",\"-[x]\")\n",
    "            content_yesterday.append(ctoday)\n",
    "\n",
    "    content_yesterday = \"\".join(content_yesterday)\n",
    "    contend_today = \"\".join(contend_today)\n",
    "\n",
    "    return content_yesterday, contend_today\n",
    "\n",
    "def update_entries(file, path2yesterday, path2day):\n",
    "    content = return_tasks_list(file, path2yesterday)\n",
    "    content_yesterday, content_today = get_updated_content_strings(content)\n",
    "\n",
    "    #update yesterday's file\n",
    "    fy_path = path2yesterday + \"/\" + file\n",
    "    f = open(fy_path, \"w\")\n",
    "    f.write(str(content_yesterday))\n",
    "    f.close()\n",
    "\n",
    "    #update today's file\n",
    "    fpath = path2day + \"/\" + file\n",
    "    f = open(fpath, \"a\")\n",
    "    f.write(\"\\n\"+str(content_today))\n",
    "    f.close()\n",
    "    \n",
    "    \n",
    "def update_files(file, project_root):\n",
    "    yesterday = str(datetime.date.today() - datetime.timedelta(days=1) ).replace(\"-\",\"_\")\n",
    "    path2yesterday = project_root+\"/\"+yesterday\n",
    "\n",
    "    today = str(datetime.date.today()).replace(\"-\",\"_\")\n",
    "    path2today = project_root+\"/\"+today\n",
    "\n",
    "    update_entries(file, path2yesterday, path2today)\n"
   ]
  },
  {
   "cell_type": "code",
   "execution_count": 70,
   "id": "ad18f361",
   "metadata": {
    "ExecuteTime": {
     "end_time": "2022-06-09T05:14:20.613352Z",
     "start_time": "2022-06-09T05:14:20.607928Z"
    }
   },
   "outputs": [],
   "source": [
    "import datetime\n",
    "\n",
    "project_root = \"/Users/shanto/LFL/Summer22\"\n",
    "files = [\"summary.md\",\"goals.md\"]\n",
    "update_files(files[1], project_root)"
   ]
  },
  {
   "cell_type": "markdown",
   "id": "0c2949b7",
   "metadata": {
    "heading_collapsed": true
   },
   "source": [
    "## Development"
   ]
  },
  {
   "cell_type": "code",
   "execution_count": 2,
   "id": "fda1b791",
   "metadata": {
    "ExecuteTime": {
     "end_time": "2022-06-09T04:25:35.087277Z",
     "start_time": "2022-06-09T04:25:35.074479Z"
    },
    "hidden": true
   },
   "outputs": [
    {
     "name": "stdout",
     "output_type": "stream",
     "text": [
      "['# June 07, 2022\\n\\n-[] test entry -1\\n-[x] lift-off with Azarin\\n-[] test entry 0\\n-[x] postdoc interview @ 10 AM\\n-[] test entry 1\\n-[] test entry 2\\n']\n"
     ]
    }
   ],
   "source": [
    "import datetime\n",
    "\n",
    "project_root = \"/Users/shanto/LFL/Summer22\"\n",
    "yesterday = str(datetime.date.today() - datetime.timedelta(days=1) ).replace(\"-\",\"_\")\n",
    "path2yesterday = project_root+\"/\"+yesterday\n",
    "\n",
    "\n",
    "c = undone_entries(\"goals.md\",path2yesterday)"
   ]
  },
  {
   "cell_type": "code",
   "execution_count": 59,
   "id": "3918d35c",
   "metadata": {
    "ExecuteTime": {
     "end_time": "2022-06-09T04:54:35.396980Z",
     "start_time": "2022-06-09T04:54:35.386091Z"
    },
    "hidden": true
   },
   "outputs": [],
   "source": [
    "def return_content(file, path):\n",
    "    fpath = path + \"/\" + file\n",
    "    f_open = open(fpath, \"r\")\n",
    "    content = f_open.read().split(\"-[\")    \n",
    "    return content\n",
    "\n",
    "def get_updated_content_strings(content):\n",
    "    tasks = c[0]\n",
    "    tasks\n",
    "    \n",
    "    content_for_tomorrow = []\n",
    "    content_for_today = []\n",
    "\n",
    "    for task in content:\n",
    "        if task[0] == \"]\":\n",
    "            content_for_tomorrow.append(task.replace(\"]\",\"-[]\"))\n",
    "        else:\n",
    "            ctoday = task.replace(\"x]\",\"-[x]\")\n",
    "            content_for_today.append(ctoday)\n",
    "\n",
    "    content_for_today = \"\".join(content_for_today)\n",
    "    content_for_tomorrow = \"\".join(content_for_tomorrow)\n",
    "    \n",
    "    return content_for_today, content_for_tomorrow\n"
   ]
  },
  {
   "cell_type": "code",
   "execution_count": null,
   "id": "f9f9032e",
   "metadata": {
    "hidden": true
   },
   "outputs": [],
   "source": [
    "def update_entries(file, path2yesterday, path2day):\n",
    "    content = return_content(file, path2yesterday)\n",
    "    string_today, string_tomorrow = get_updated_content_strings(content)\n",
    "    #update today's file\n",
    "    fpath = path2day + \"/\" + file\n",
    "    f = open(fpath, \"a\")\n",
    "    f.write(\"\\n\"+str(string_today))\n",
    "    return string_tomorrow"
   ]
  },
  {
   "cell_type": "code",
   "execution_count": 58,
   "id": "3ddcc144",
   "metadata": {
    "ExecuteTime": {
     "end_time": "2022-06-09T04:42:27.597131Z",
     "start_time": "2022-06-09T04:42:27.587381Z"
    },
    "hidden": true
   },
   "outputs": [
    {
     "data": {
      "text/plain": [
       "['# June 07, 2022\\n\\n',\n",
       " '] test entry -1\\n',\n",
       " 'x] lift-off with Azarin\\n',\n",
       " '] test entry 0\\n',\n",
       " 'x] postdoc interview @ 10 AM\\n',\n",
       " '] test entry 1\\n',\n",
       " '] test entry 2\\n']"
      ]
     },
     "execution_count": 58,
     "metadata": {},
     "output_type": "execute_result"
    }
   ],
   "source": []
  },
  {
   "cell_type": "code",
   "execution_count": 54,
   "id": "0db2c9b6",
   "metadata": {
    "ExecuteTime": {
     "end_time": "2022-06-09T04:39:11.139626Z",
     "start_time": "2022-06-09T04:39:11.130316Z"
    },
    "hidden": true
   },
   "outputs": [],
   "source": [
    "content_for_tomorrow = []\n",
    "content_for_today = []\n",
    "\n",
    "for task in tasks:\n",
    "    if task[0] == \"]\":\n",
    "        content_for_tomorrow.append(task.replace(\"]\",\"-[]\"))\n",
    "    else:\n",
    "        ctoday = task.replace(\"x]\",\"-[x]\")\n",
    "        content_for_today.append(ctoday)\n",
    "\n",
    "content_for_today = \"\".join(content_for_today)\n",
    "content_for_tomorrow = \"\".join(content_for_tomorrow)"
   ]
  },
  {
   "cell_type": "code",
   "execution_count": 55,
   "id": "32267f82",
   "metadata": {
    "ExecuteTime": {
     "end_time": "2022-06-09T04:39:11.422067Z",
     "start_time": "2022-06-09T04:39:11.414861Z"
    },
    "hidden": true
   },
   "outputs": [
    {
     "data": {
      "text/plain": [
       "'-[] test entry -1\\n-[] test entry 0\\n-[] test entry 1\\n-[] test entry 2\\n'"
      ]
     },
     "execution_count": 55,
     "metadata": {},
     "output_type": "execute_result"
    }
   ],
   "source": [
    "content_for_tomorrow"
   ]
  },
  {
   "cell_type": "code",
   "execution_count": 56,
   "id": "75cc6b53",
   "metadata": {
    "ExecuteTime": {
     "end_time": "2022-06-09T04:39:12.011850Z",
     "start_time": "2022-06-09T04:39:12.005933Z"
    },
    "hidden": true
   },
   "outputs": [
    {
     "data": {
      "text/plain": [
       "'# June 07, 2022\\n\\n-[x] lift-off with Azarin\\n-[x] postdoc interview @ 10 AM\\n'"
      ]
     },
     "execution_count": 56,
     "metadata": {},
     "output_type": "execute_result"
    }
   ],
   "source": [
    "content_for_today"
   ]
  },
  {
   "cell_type": "code",
   "execution_count": null,
   "id": "a08ea65f",
   "metadata": {
    "hidden": true
   },
   "outputs": [],
   "source": []
  }
 ],
 "metadata": {
  "hide_input": false,
  "kernelspec": {
   "display_name": "Python 3 (ipykernel)",
   "language": "python",
   "name": "python3"
  },
  "language_info": {
   "codemirror_mode": {
    "name": "ipython",
    "version": 3
   },
   "file_extension": ".py",
   "mimetype": "text/x-python",
   "name": "python",
   "nbconvert_exporter": "python",
   "pygments_lexer": "ipython3",
   "version": "3.9.12"
  },
  "toc": {
   "base_numbering": 1,
   "nav_menu": {},
   "number_sections": true,
   "sideBar": true,
   "skip_h1_title": false,
   "title_cell": "Table of Contents",
   "title_sidebar": "Contents",
   "toc_cell": false,
   "toc_position": {},
   "toc_section_display": true,
   "toc_window_display": false
  },
  "varInspector": {
   "cols": {
    "lenName": 16,
    "lenType": 16,
    "lenVar": 40
   },
   "kernels_config": {
    "python": {
     "delete_cmd_postfix": "",
     "delete_cmd_prefix": "del ",
     "library": "var_list.py",
     "varRefreshCmd": "print(var_dic_list())"
    },
    "r": {
     "delete_cmd_postfix": ") ",
     "delete_cmd_prefix": "rm(",
     "library": "var_list.r",
     "varRefreshCmd": "cat(var_dic_list()) "
    }
   },
   "types_to_exclude": [
    "module",
    "function",
    "builtin_function_or_method",
    "instance",
    "_Feature"
   ],
   "window_display": false
  }
 },
 "nbformat": 4,
 "nbformat_minor": 5
}
